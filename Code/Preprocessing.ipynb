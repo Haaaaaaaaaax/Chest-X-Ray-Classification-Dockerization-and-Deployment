{
 "cells": [
  {
   "cell_type": "markdown",
   "metadata": {},
   "source": [
    "Preprocessing section"
   ]
  },
  {
   "cell_type": "code",
   "execution_count": 1,
   "metadata": {},
   "outputs": [],
   "source": [
    "import os\n",
    "import shutil\n",
    "import numpy as np\n",
    "import pandas as pd\n",
    "import matplotlib.pyplot as plt\n",
    "import seaborn as sns\n",
    "from glob import glob"
   ]
  },
  {
   "cell_type": "code",
   "execution_count": 2,
   "metadata": {},
   "outputs": [],
   "source": [
    "def  train_data(train_path):\n",
    "    classes, class_paths = zip(*[(label, os.path.join(train_path, label, image))\n",
    "                                for label in os.listdir(train_path) if os.path.isdir(os.path.join(train_path, label))\n",
    "                                for image in os.listdir(os.path.join(train_path, label))])\n",
    "    train_df = pd.DataFrame({'Class Path': class_paths, 'Class': classes})\n",
    "    return train_df"
   ]
  },
  {
   "cell_type": "code",
   "execution_count": 3,
   "metadata": {},
   "outputs": [],
   "source": [
    "def  val_data(train_path):\n",
    "    classes, class_paths = zip(*[(label, os.path.join(train_path, label, image))\n",
    "                                for label in os.listdir(train_path) if os.path.isdir(os.path.join(train_path, label))\n",
    "                                for image in os.listdir(os.path.join(train_path, label))])\n",
    "    val_df = pd.DataFrame({'Class Path': class_paths, 'Class': classes})\n",
    "    return val_df"
   ]
  },
  {
   "cell_type": "code",
   "execution_count": 4,
   "metadata": {},
   "outputs": [],
   "source": [
    "def  test_data(train_path):\n",
    "    classes, class_paths = zip(*[(label, os.path.join(train_path, label, image))\n",
    "                                for label in os.listdir(train_path) if os.path.isdir(os.path.join(train_path, label))\n",
    "                                for image in os.listdir(os.path.join(train_path, label))])\n",
    "    test_df = pd.DataFrame({'Class Path': class_paths, 'Class': classes})\n",
    "    return test_df"
   ]
  },
  {
   "cell_type": "code",
   "execution_count": 5,
   "metadata": {},
   "outputs": [
    {
     "name": "stdout",
     "output_type": "stream",
     "text": [
      "c:\\Users\\iiven\\Ai-Cursor\\Chest X-Ray\n"
     ]
    },
    {
     "name": "stderr",
     "output_type": "stream",
     "text": [
      "c:\\Users\\iiven\\anaconda3\\envs\\AiProjects\\lib\\site-packages\\IPython\\core\\magics\\osm.py:417: UserWarning: This is now an optional IPython functionality, setting dhist requires you to install the `pickleshare` library.\n",
      "  self.shell.db['dhist'] = compress_dhist(dhist)[-100:]\n"
     ]
    }
   ],
   "source": [
    "%cd .."
   ]
  },
  {
   "cell_type": "code",
   "execution_count": 29,
   "metadata": {},
   "outputs": [
    {
     "data": {
      "text/plain": [
       "'c:\\\\Users\\\\iiven\\\\Ai-Cursor\\\\Chest X-Ray'"
      ]
     },
     "execution_count": 29,
     "metadata": {},
     "output_type": "execute_result"
    }
   ],
   "source": [
    "%pwd"
   ]
  },
  {
   "cell_type": "code",
   "execution_count": 7,
   "metadata": {},
   "outputs": [],
   "source": [
    "train_df = train_data(r'Data\\chest_xray\\train')"
   ]
  },
  {
   "cell_type": "code",
   "execution_count": 9,
   "metadata": {},
   "outputs": [
    {
     "data": {
      "text/plain": [
       "(5216, 2)"
      ]
     },
     "execution_count": 9,
     "metadata": {},
     "output_type": "execute_result"
    }
   ],
   "source": [
    "train_df.shape"
   ]
  },
  {
   "cell_type": "code",
   "execution_count": 10,
   "metadata": {},
   "outputs": [],
   "source": [
    "val_df = val_data(r'Data\\chest_xray\\val')"
   ]
  },
  {
   "cell_type": "code",
   "execution_count": 11,
   "metadata": {},
   "outputs": [
    {
     "data": {
      "text/plain": [
       "(16, 2)"
      ]
     },
     "execution_count": 11,
     "metadata": {},
     "output_type": "execute_result"
    }
   ],
   "source": [
    "val_df.shape"
   ]
  },
  {
   "cell_type": "code",
   "execution_count": 12,
   "metadata": {},
   "outputs": [],
   "source": [
    "test_df = test_data(r'Data\\chest_xray\\test')"
   ]
  },
  {
   "cell_type": "code",
   "execution_count": 13,
   "metadata": {},
   "outputs": [
    {
     "data": {
      "text/plain": [
       "(624, 2)"
      ]
     },
     "execution_count": 13,
     "metadata": {},
     "output_type": "execute_result"
    }
   ],
   "source": [
    "test_df.shape"
   ]
  },
  {
   "cell_type": "code",
   "execution_count": 14,
   "metadata": {},
   "outputs": [
    {
     "data": {
      "text/plain": [
       "(5856, 2)"
      ]
     },
     "execution_count": 14,
     "metadata": {},
     "output_type": "execute_result"
    }
   ],
   "source": [
    "total_df = pd.concat([train_df, val_df, test_df])\n",
    "total_df.shape"
   ]
  },
  {
   "cell_type": "code",
   "execution_count": 15,
   "metadata": {},
   "outputs": [],
   "source": [
    "total_df.reset_index(inplace= True)"
   ]
  },
  {
   "cell_type": "code",
   "execution_count": 19,
   "metadata": {},
   "outputs": [],
   "source": [
    "total_df.drop('index', axis= 1, inplace= True)"
   ]
  },
  {
   "cell_type": "code",
   "execution_count": 20,
   "metadata": {},
   "outputs": [
    {
     "data": {
      "text/html": [
       "<div>\n",
       "<style scoped>\n",
       "    .dataframe tbody tr th:only-of-type {\n",
       "        vertical-align: middle;\n",
       "    }\n",
       "\n",
       "    .dataframe tbody tr th {\n",
       "        vertical-align: top;\n",
       "    }\n",
       "\n",
       "    .dataframe thead th {\n",
       "        text-align: right;\n",
       "    }\n",
       "</style>\n",
       "<table border=\"1\" class=\"dataframe\">\n",
       "  <thead>\n",
       "    <tr style=\"text-align: right;\">\n",
       "      <th></th>\n",
       "      <th>Class Path</th>\n",
       "      <th>Class</th>\n",
       "    </tr>\n",
       "  </thead>\n",
       "  <tbody>\n",
       "    <tr>\n",
       "      <th>0</th>\n",
       "      <td>Data\\chest_xray\\train\\NORMAL\\IM-0115-0001.jpeg</td>\n",
       "      <td>NORMAL</td>\n",
       "    </tr>\n",
       "    <tr>\n",
       "      <th>1</th>\n",
       "      <td>Data\\chest_xray\\train\\NORMAL\\IM-0117-0001.jpeg</td>\n",
       "      <td>NORMAL</td>\n",
       "    </tr>\n",
       "    <tr>\n",
       "      <th>2</th>\n",
       "      <td>Data\\chest_xray\\train\\NORMAL\\IM-0119-0001.jpeg</td>\n",
       "      <td>NORMAL</td>\n",
       "    </tr>\n",
       "    <tr>\n",
       "      <th>3</th>\n",
       "      <td>Data\\chest_xray\\train\\NORMAL\\IM-0122-0001.jpeg</td>\n",
       "      <td>NORMAL</td>\n",
       "    </tr>\n",
       "    <tr>\n",
       "      <th>4</th>\n",
       "      <td>Data\\chest_xray\\train\\NORMAL\\IM-0125-0001.jpeg</td>\n",
       "      <td>NORMAL</td>\n",
       "    </tr>\n",
       "    <tr>\n",
       "      <th>...</th>\n",
       "      <td>...</td>\n",
       "      <td>...</td>\n",
       "    </tr>\n",
       "    <tr>\n",
       "      <th>5851</th>\n",
       "      <td>Data\\chest_xray\\test\\PNEUMONIA\\person96_bacter...</td>\n",
       "      <td>PNEUMONIA</td>\n",
       "    </tr>\n",
       "    <tr>\n",
       "      <th>5852</th>\n",
       "      <td>Data\\chest_xray\\test\\PNEUMONIA\\person96_bacter...</td>\n",
       "      <td>PNEUMONIA</td>\n",
       "    </tr>\n",
       "    <tr>\n",
       "      <th>5853</th>\n",
       "      <td>Data\\chest_xray\\test\\PNEUMONIA\\person97_bacter...</td>\n",
       "      <td>PNEUMONIA</td>\n",
       "    </tr>\n",
       "    <tr>\n",
       "      <th>5854</th>\n",
       "      <td>Data\\chest_xray\\test\\PNEUMONIA\\person99_bacter...</td>\n",
       "      <td>PNEUMONIA</td>\n",
       "    </tr>\n",
       "    <tr>\n",
       "      <th>5855</th>\n",
       "      <td>Data\\chest_xray\\test\\PNEUMONIA\\person99_bacter...</td>\n",
       "      <td>PNEUMONIA</td>\n",
       "    </tr>\n",
       "  </tbody>\n",
       "</table>\n",
       "<p>5856 rows × 2 columns</p>\n",
       "</div>"
      ],
      "text/plain": [
       "                                             Class Path      Class\n",
       "0        Data\\chest_xray\\train\\NORMAL\\IM-0115-0001.jpeg     NORMAL\n",
       "1        Data\\chest_xray\\train\\NORMAL\\IM-0117-0001.jpeg     NORMAL\n",
       "2        Data\\chest_xray\\train\\NORMAL\\IM-0119-0001.jpeg     NORMAL\n",
       "3        Data\\chest_xray\\train\\NORMAL\\IM-0122-0001.jpeg     NORMAL\n",
       "4        Data\\chest_xray\\train\\NORMAL\\IM-0125-0001.jpeg     NORMAL\n",
       "...                                                 ...        ...\n",
       "5851  Data\\chest_xray\\test\\PNEUMONIA\\person96_bacter...  PNEUMONIA\n",
       "5852  Data\\chest_xray\\test\\PNEUMONIA\\person96_bacter...  PNEUMONIA\n",
       "5853  Data\\chest_xray\\test\\PNEUMONIA\\person97_bacter...  PNEUMONIA\n",
       "5854  Data\\chest_xray\\test\\PNEUMONIA\\person99_bacter...  PNEUMONIA\n",
       "5855  Data\\chest_xray\\test\\PNEUMONIA\\person99_bacter...  PNEUMONIA\n",
       "\n",
       "[5856 rows x 2 columns]"
      ]
     },
     "execution_count": 20,
     "metadata": {},
     "output_type": "execute_result"
    }
   ],
   "source": [
    "total_df"
   ]
  },
  {
   "cell_type": "code",
   "execution_count": 21,
   "metadata": {},
   "outputs": [
    {
     "data": {
      "image/png": "[encoded data removed]",
      "text/plain": [
       "<Figure size 1500x700 with 1 Axes>"
      ]
     },
     "metadata": {},
     "output_type": "display_data"
    }
   ],
   "source": [
    "plt.figure(figsize=(15,7))\n",
    "\n",
    "ax = sns.countplot(data= total_df, y= total_df['Class'])\n",
    "plt.xlabel('Count')\n",
    "plt.ylabel('Class Name')\n",
    "plt.title('Count of images in each class', fontsize=20)\n",
    "ax.bar_label(ax.containers[0])\n",
    "plt.show()"
   ]
  },
  {
   "cell_type": "markdown",
   "metadata": {},
   "source": [
    "#### The data appears to be unbalanced, as seen from the count of images in each class.\n",
    "#### To address this issue, we need to use data augmentation techniques to generate more images.\n",
    "#### Augmentors can help create variations of existing images, which will help balance the dataset and improve the performance of our model."
   ]
  },
  {
   "cell_type": "code",
   "execution_count": 22,
   "metadata": {},
   "outputs": [],
   "source": [
    "# Preparing data for Augmentors\n",
    "for class_name in total_df['Class'].unique():\n",
    "    class_dir = f'Data/{class_name}'\n",
    "    os.makedirs(class_dir, exist_ok=True)\n",
    "\n",
    "    for path in total_df[total_df['Class'] == class_name]['Class Path']:\n",
    "        shutil.copy(path, class_dir)"
   ]
  },
  {
   "cell_type": "code",
   "execution_count": 23,
   "metadata": {},
   "outputs": [],
   "source": [
    "import Augmentor"
   ]
  },
  {
   "cell_type": "code",
   "execution_count": 30,
   "metadata": {},
   "outputs": [
    {
     "name": "stdout",
     "output_type": "stream",
     "text": [
      "Initialised with 1583 image(s) found.\n",
      "Output directory set to Data\\NORMAL\\Data\\AugmentedData\\NORMAL."
     ]
    },
    {
     "name": "stderr",
     "output_type": "stream",
     "text": [
      "Processing <PIL.Image.Image image mode=L size=1762x1506 at 0x27EC9888D30>: 100%|██████████| 3416/3416 [00:28<00:00, 120.77 Samples/s]                  \n"
     ]
    },
    {
     "name": "stdout",
     "output_type": "stream",
     "text": [
      "Initialised with 4273 image(s) found.\n",
      "Output directory set to Data\\PNEUMONIA\\Data\\AugmentedData\\PNEUMONIA."
     ]
    },
    {
     "name": "stderr",
     "output_type": "stream",
     "text": [
      "Processing <PIL.JpegImagePlugin.JpegImageFile image mode=L size=1192x920 at 0x27ECDED5D20>: 100%|██████████| 726/726 [00:03<00:00, 219.21 Samples/s]  \n"
     ]
    }
   ],
   "source": [
    "# Create a pipeline for each class to augment images\n",
    "import os\n",
    "# Define the output directory\n",
    "output_directory = os.path.join('Data', 'AugmentedData')\n",
    "\n",
    "# Ensure the output directory exists\n",
    "if not os.path.exists(output_directory):\n",
    "    os.makedirs(output_directory)\n",
    "\n",
    "# Define the number of images per class\n",
    "target_count = 5000\n",
    "\n",
    "# Create a pipeline for each class\n",
    "for class_name in total_df['Class'].unique():\n",
    "    class_dir = os.path.join('Data', class_name)\n",
    "    output_class_dir = os.path.join(output_directory, class_name)\n",
    "    \n",
    "    # Ensure the class-specific output directory exists\n",
    "    if not os.path.exists(output_class_dir):\n",
    "        os.makedirs(output_class_dir)\n",
    "    \n",
    "    # Initialize the Augmentor pipeline\n",
    "    p = Augmentor.Pipeline(source_directory=class_dir, output_directory=output_class_dir)\n",
    "    \n",
    "    # Add operations to the pipeline\n",
    "    p.rotate(probability=0.7, max_left_rotation=10, max_right_rotation=10)\n",
    "    p.flip_left_right(probability=0.5)\n",
    "    \n",
    "    # Calculate the number of images to generate\n",
    "    current_count = len(os.listdir(class_dir))\n",
    "    images_to_generate = target_count - current_count\n",
    "    \n",
    "    # Execute the pipeline\n",
    "    if images_to_generate > 0:\n",
    "        p.sample(images_to_generate)\n"
   ]
  },
  {
   "cell_type": "code",
   "execution_count": 35,
   "metadata": {},
   "outputs": [],
   "source": [
    "# all Data\n",
    "os.mkdir('Data/All_Data')\n",
    "\n",
    "# copy existing data to All_Data\n",
    "for class_name in total_df['Class'].unique():\n",
    "    class_dir = os.path.join('Data', class_name)\n",
    "    output_class_dir = os.path.join('Data', 'All_Data', class_name)\n",
    "    shutil.copytree(class_dir, output_class_dir)\n",
    "\n",
    "# copy augmented data to All_Data\n",
    "for class_name in total_df['Class'].unique():\n",
    "    class_dir = os.path.join('Data\\AugmentedData', class_name)\n",
    "    output_class_dir = os.path.join('Data', 'All_Data', class_name)\n",
    "    for file in os.listdir(class_dir):\n",
    "        shutil.copy(os.path.join(class_dir, file), output_class_dir)\n"
   ]
  },
  {
   "cell_type": "code",
   "execution_count": 38,
   "metadata": {},
   "outputs": [],
   "source": [
    "def  Data_frame(Path):\n",
    "    classes, class_paths = zip(*[(label, os.path.join(Path, label, image))\n",
    "                                for label in os.listdir(Path) if os.path.isdir(os.path.join(Path, label))\n",
    "                                for image in os.listdir(os.path.join(Path, label))])\n",
    "    Data = pd.DataFrame({'Class Path': class_paths, 'Class': classes})\n",
    "    return Data"
   ]
  },
  {
   "cell_type": "code",
   "execution_count": 40,
   "metadata": {},
   "outputs": [
    {
     "data": {
      "text/plain": [
       "(9998, 2)"
      ]
     },
     "execution_count": 40,
     "metadata": {},
     "output_type": "execute_result"
    }
   ],
   "source": [
    "Data= Data_frame(r'Data/All_Data')\n",
    "Data.shape"
   ]
  },
  {
   "cell_type": "code",
   "execution_count": 41,
   "metadata": {},
   "outputs": [
    {
     "data": {
      "image/png": "[encoded data removed]",
      "text/plain": [
       "<Figure size 1500x700 with 1 Axes>"
      ]
     },
     "metadata": {},
     "output_type": "display_data"
    }
   ],
   "source": [
    "plt.figure(figsize=(15,7))\n",
    "\n",
    "ax = sns.countplot(data= Data, y= Data['Class'])\n",
    "plt.xlabel('Count')\n",
    "plt.ylabel('Class Name')\n",
    "plt.title('Count of images in each class', fontsize=20)\n",
    "ax.bar_label(ax.containers[0])\n",
    "plt.show()"
   ]
  }
 ],
 "metadata": {
  "kernelspec": {
   "display_name": "AiProjects",
   "language": "python",
   "name": "python3"
  },
  "language_info": {
   "codemirror_mode": {
    "name": "ipython",
    "version": 3
   },
   "file_extension": ".py",
   "mimetype": "text/x-python",
   "name": "python",
   "nbconvert_exporter": "python",
   "pygments_lexer": "ipython3",
   "version": "3.10.16"
  }
 },
 "nbformat": 4,
 "nbformat_minor": 2
}
